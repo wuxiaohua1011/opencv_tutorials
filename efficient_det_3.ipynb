{
 "cells": [
  {
   "cell_type": "code",
   "execution_count": 2,
   "metadata": {
    "collapsed": true
   },
   "outputs": [],
   "source": [
    "import tensorflow as tf\n",
    "gpus = tf.config.experimental.list_physical_devices('GPU')\n",
    "if gpus:\n",
    "  try:\n",
    "    for gpu in gpus:\n",
    "      tf.config.experimental.set_memory_growth(gpu, True)\n",
    "  except RuntimeError as e:\n",
    "    print(e)"
   ]
  },
  {
   "cell_type": "code",
   "execution_count": null,
   "outputs": [],
   "source": [
    "\n",
    "import cv2\n",
    "\n",
    "# Load a model imported from Tensorflow\n",
    "tensorflowNet = cv2.dnn.readNetFromTensorflow('faster_rcnn_inception_v2/frozen_inference_graph.pb',\n",
    "                                              'faster_rcnn_inception_v2/faster_rcnn_inception_v2_coco_2018_01_28.pbtxt')\n",
    "\n",
    "# Input image\n",
    "img = cv2.imread('data/front_rgb/frame_190.png')\n",
    "rows, cols, channels = img.shape\n",
    "\n",
    "# Use the given image as input, which needs to be blob(s).\n",
    "tensorflowNet.setInput(cv2.dnn.blobFromImage(img, size=(300, 300), swapRB=True, crop=False))\n",
    "\n",
    "# Runs a forward pass to compute the net output\n",
    "networkOutput = tensorflowNet.forward()\n",
    "\n",
    "# Loop on the outputs\n",
    "for detection in networkOutput[0,0]:\n",
    "\n",
    "    score = float(detection[2])\n",
    "    if score > 0.2:\n",
    "\n",
    "        left = detection[3] * cols\n",
    "        top = detection[4] * rows\n",
    "        right = detection[5] * cols\n",
    "        bottom = detection[6] * rows\n",
    "\n",
    "        #draw a red rectangle around detected objects\n",
    "        cv2.rectangle(img, (int(left), int(top)), (int(right), int(bottom)), (0, 0, 255), thickness=2)\n",
    "\n",
    "# Show the image with a rectagle surrounding the detected objects\n",
    "cv2.imshow('Image', img)\n",
    "cv2.waitKey()\n",
    "cv2.destroyAllWindows()"
   ],
   "metadata": {
    "collapsed": false,
    "pycharm": {
     "name": "#%%\n",
     "is_executing": true
    }
   }
  },
  {
   "cell_type": "code",
   "execution_count": null,
   "outputs": [],
   "source": [],
   "metadata": {
    "collapsed": false,
    "pycharm": {
     "name": "#%%\n"
    }
   }
  }
 ],
 "metadata": {
  "kernelspec": {
   "display_name": "Python 3",
   "language": "python",
   "name": "python3"
  },
  "language_info": {
   "codemirror_mode": {
    "name": "ipython",
    "version": 2
   },
   "file_extension": ".py",
   "mimetype": "text/x-python",
   "name": "python",
   "nbconvert_exporter": "python",
   "pygments_lexer": "ipython2",
   "version": "2.7.6"
  }
 },
 "nbformat": 4,
 "nbformat_minor": 0
}